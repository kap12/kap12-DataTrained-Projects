{
 "cells": [
  {
   "cell_type": "code",
   "execution_count": 1,
   "metadata": {},
   "outputs": [],
   "source": [
    "# importing required libraries\n",
    "import numpy as np\n",
    "import pandas as pd\n",
    "\n",
    "import seaborn as sns\n",
    "import matplotlib.pyplot as plt\n",
    "from matplotlib.pyplot import figure\n",
    "\n",
    "import joblib\n",
    "from scipy.stats import zscore\n",
    "from sklearn.model_selection import GridSearchCV,train_test_split\n",
    "from sklearn.preprocessing import StandardScaler,LabelEncoder\n",
    "from sklearn.model_selection import cross_val_score,KFold\n",
    "\n",
    "from sklearn.metrics import r2_score,mean_squared_error,mean_absolute_error\n",
    "\n",
    "from sklearn.svm import SVR\n",
    "from sklearn.naive_bayes import GaussianNB\n",
    "from sklearn.tree import DecisionTreeRegressor\n",
    "from sklearn.neighbors import KNeighborsRegressor\n",
    "from sklearn.linear_model import Lasso,Ridge,ElasticNet,LinearRegression,SGDRegressor,LogisticRegression\n",
    "from sklearn.ensemble import RandomForestRegressor, GradientBoostingRegressor\n",
    "\n",
    "import warnings\n",
    "warnings.filterwarnings('ignore')"
   ]
  },
  {
   "cell_type": "code",
   "execution_count": 2,
   "metadata": {},
   "outputs": [
    {
     "name": "stdout",
     "output_type": "stream",
     "text": [
      "\u001b[1;31mTrain data sample\u001b[0m\n"
     ]
    },
    {
     "data": {
      "text/html": [
       "<div>\n",
       "<style scoped>\n",
       "    .dataframe tbody tr th:only-of-type {\n",
       "        vertical-align: middle;\n",
       "    }\n",
       "\n",
       "    .dataframe tbody tr th {\n",
       "        vertical-align: top;\n",
       "    }\n",
       "\n",
       "    .dataframe thead th {\n",
       "        text-align: right;\n",
       "    }\n",
       "</style>\n",
       "<table border=\"1\" class=\"dataframe\">\n",
       "  <thead>\n",
       "    <tr style=\"text-align: right;\">\n",
       "      <th></th>\n",
       "      <th>Qualification</th>\n",
       "      <th>Experience</th>\n",
       "      <th>Rating</th>\n",
       "      <th>Place</th>\n",
       "      <th>Profile</th>\n",
       "      <th>Miscellaneous_Info</th>\n",
       "      <th>Fees</th>\n",
       "    </tr>\n",
       "  </thead>\n",
       "  <tbody>\n",
       "    <tr>\n",
       "      <td>0</td>\n",
       "      <td>BHMS, MD - Homeopathy</td>\n",
       "      <td>24 years experience</td>\n",
       "      <td>100%</td>\n",
       "      <td>Kakkanad, Ernakulam</td>\n",
       "      <td>Homeopath</td>\n",
       "      <td>100% 16 Feedback Kakkanad, Ernakulam</td>\n",
       "      <td>100</td>\n",
       "    </tr>\n",
       "    <tr>\n",
       "      <td>1</td>\n",
       "      <td>BAMS, MD - Ayurveda Medicine</td>\n",
       "      <td>12 years experience</td>\n",
       "      <td>98%</td>\n",
       "      <td>Whitefield, Bangalore</td>\n",
       "      <td>Ayurveda</td>\n",
       "      <td>98% 76 Feedback Whitefield, Bangalore</td>\n",
       "      <td>350</td>\n",
       "    </tr>\n",
       "    <tr>\n",
       "      <td>2</td>\n",
       "      <td>MBBS, MS - Otorhinolaryngology</td>\n",
       "      <td>9 years experience</td>\n",
       "      <td>NaN</td>\n",
       "      <td>Mathikere - BEL, Bangalore</td>\n",
       "      <td>ENT Specialist</td>\n",
       "      <td>NaN</td>\n",
       "      <td>300</td>\n",
       "    </tr>\n",
       "  </tbody>\n",
       "</table>\n",
       "</div>"
      ],
      "text/plain": [
       "                    Qualification           Experience Rating  \\\n",
       "0           BHMS, MD - Homeopathy  24 years experience   100%   \n",
       "1    BAMS, MD - Ayurveda Medicine  12 years experience    98%   \n",
       "2  MBBS, MS - Otorhinolaryngology   9 years experience    NaN   \n",
       "\n",
       "                        Place         Profile  \\\n",
       "0         Kakkanad, Ernakulam       Homeopath   \n",
       "1       Whitefield, Bangalore        Ayurveda   \n",
       "2  Mathikere - BEL, Bangalore  ENT Specialist   \n",
       "\n",
       "                      Miscellaneous_Info  Fees  \n",
       "0   100% 16 Feedback Kakkanad, Ernakulam   100  \n",
       "1  98% 76 Feedback Whitefield, Bangalore   350  \n",
       "2                                    NaN   300  "
      ]
     },
     "execution_count": 2,
     "metadata": {},
     "output_type": "execute_result"
    }
   ],
   "source": [
    "# reading train data from csv file\n",
    "df_train= pd.read_excel('Final_Train.xlsx')\n",
    "\n",
    "# reading test data from csv file\n",
    "df_test= pd.read_excel('Final_Test.xlsx')\n",
    "\n",
    "# sample of train data\n",
    "print('\\x1b[1;31m'+'Train data sample'+'\\x1b[0m')\n",
    "df_train.head(3)"
   ]
  },
  {
   "cell_type": "code",
   "execution_count": 3,
   "metadata": {},
   "outputs": [
    {
     "name": "stdout",
     "output_type": "stream",
     "text": [
      "\u001b[1;31mTest data sample\u001b[0m\n"
     ]
    },
    {
     "data": {
      "text/html": [
       "<div>\n",
       "<style scoped>\n",
       "    .dataframe tbody tr th:only-of-type {\n",
       "        vertical-align: middle;\n",
       "    }\n",
       "\n",
       "    .dataframe tbody tr th {\n",
       "        vertical-align: top;\n",
       "    }\n",
       "\n",
       "    .dataframe thead th {\n",
       "        text-align: right;\n",
       "    }\n",
       "</style>\n",
       "<table border=\"1\" class=\"dataframe\">\n",
       "  <thead>\n",
       "    <tr style=\"text-align: right;\">\n",
       "      <th></th>\n",
       "      <th>Qualification</th>\n",
       "      <th>Experience</th>\n",
       "      <th>Rating</th>\n",
       "      <th>Place</th>\n",
       "      <th>Profile</th>\n",
       "      <th>Miscellaneous_Info</th>\n",
       "    </tr>\n",
       "  </thead>\n",
       "  <tbody>\n",
       "    <tr>\n",
       "      <td>0</td>\n",
       "      <td>MBBS</td>\n",
       "      <td>35 years experience</td>\n",
       "      <td>NaN</td>\n",
       "      <td>Ghatkopar East, Mumbai</td>\n",
       "      <td>General Medicine</td>\n",
       "      <td>NaN</td>\n",
       "    </tr>\n",
       "    <tr>\n",
       "      <td>1</td>\n",
       "      <td>MBBS, Diploma in Otorhinolaryngology (DLO)</td>\n",
       "      <td>31 years experience</td>\n",
       "      <td>NaN</td>\n",
       "      <td>West Marredpally, Hyderabad</td>\n",
       "      <td>ENT Specialist</td>\n",
       "      <td>NaN</td>\n",
       "    </tr>\n",
       "    <tr>\n",
       "      <td>2</td>\n",
       "      <td>MBBS, DDVL</td>\n",
       "      <td>40 years experience</td>\n",
       "      <td>70%</td>\n",
       "      <td>KK Nagar, Chennai</td>\n",
       "      <td>Dermatologists</td>\n",
       "      <td>70% 4 Feedback KK Nagar, Chennai</td>\n",
       "    </tr>\n",
       "  </tbody>\n",
       "</table>\n",
       "</div>"
      ],
      "text/plain": [
       "                                Qualification           Experience Rating  \\\n",
       "0                                        MBBS  35 years experience    NaN   \n",
       "1  MBBS, Diploma in Otorhinolaryngology (DLO)  31 years experience    NaN   \n",
       "2                                  MBBS, DDVL  40 years experience    70%   \n",
       "\n",
       "                         Place           Profile  \\\n",
       "0       Ghatkopar East, Mumbai  General Medicine   \n",
       "1  West Marredpally, Hyderabad    ENT Specialist   \n",
       "2            KK Nagar, Chennai    Dermatologists   \n",
       "\n",
       "                 Miscellaneous_Info  \n",
       "0                               NaN  \n",
       "1                               NaN  \n",
       "2  70% 4 Feedback KK Nagar, Chennai  "
      ]
     },
     "execution_count": 3,
     "metadata": {},
     "output_type": "execute_result"
    }
   ],
   "source": [
    "# sample of test data\n",
    "print('\\x1b[1;31m'+'Test data sample'+'\\x1b[0m')\n",
    "df_test.head(3)"
   ]
  },
  {
   "cell_type": "markdown",
   "metadata": {},
   "source": [
    "###### Performing EDA"
   ]
  },
  {
   "cell_type": "code",
   "execution_count": 4,
   "metadata": {},
   "outputs": [
    {
     "name": "stdout",
     "output_type": "stream",
     "text": [
      "\u001b[1;31mTrain data shape\u001b[0m (5961, 7)\n",
      "\u001b[1;31mTest data shape\u001b[0m (1987, 6)\n"
     ]
    }
   ],
   "source": [
    "# checking shape of train and test data\n",
    "print('\\x1b[1;31m'+'Train data shape'+'\\x1b[0m',df_train.shape)\n",
    "print('\\x1b[1;31m'+'Test data shape'+'\\x1b[0m',df_test.shape)"
   ]
  },
  {
   "cell_type": "code",
   "execution_count": 5,
   "metadata": {},
   "outputs": [
    {
     "name": "stdout",
     "output_type": "stream",
     "text": [
      "\u001b[1;31mData type of train data set\n",
      "\n",
      "\u001b[0m Qualification         object\n",
      "Experience            object\n",
      "Rating                object\n",
      "Place                 object\n",
      "Profile               object\n",
      "Miscellaneous_Info    object\n",
      "Fees                   int64\n",
      "dtype: object \n",
      "\n",
      "\n",
      "\u001b[1;31mData type of test data set\n",
      "\u001b[0m Qualification         object\n",
      "Experience            object\n",
      "Rating                object\n",
      "Place                 object\n",
      "Profile               object\n",
      "Miscellaneous_Info    object\n",
      "dtype: object\n"
     ]
    }
   ],
   "source": [
    "# checking data type of train and test data\n",
    "print('\\x1b[1;31m'+'Data type of train data set\\n\\n'+'\\x1b[0m',df_train.dtypes,'\\n\\n')\n",
    "print('\\x1b[1;31m'+'Data type of test data set\\n'+'\\x1b[0m',df_test.dtypes)"
   ]
  },
  {
   "cell_type": "code",
   "execution_count": 6,
   "metadata": {},
   "outputs": [
    {
     "name": "stdout",
     "output_type": "stream",
     "text": [
      "\u001b[1;31mUnique value in train data set\n",
      "\n",
      "\u001b[0m Qualification         1420\n",
      "Experience              64\n",
      "Rating                  51\n",
      "Place                  877\n",
      "Profile                  6\n",
      "Miscellaneous_Info    2998\n",
      "Fees                    40\n",
      "dtype: int64 \n",
      "\n",
      "\n",
      "\u001b[1;31mUnique value in test data set\n",
      "\u001b[0m Qualification          630\n",
      "Experience              57\n",
      "Rating                  36\n",
      "Place                  592\n",
      "Profile                  6\n",
      "Miscellaneous_Info    1084\n",
      "dtype: int64\n"
     ]
    }
   ],
   "source": [
    "#checking unique values in train and test data\n",
    "print('\\x1b[1;31m'+'Unique value in train data set\\n\\n'+'\\x1b[0m',df_train.nunique(),'\\n\\n')\n",
    "print('\\x1b[1;31m'+'Unique value in test data set\\n'+'\\x1b[0m',df_test.nunique())"
   ]
  },
  {
   "cell_type": "code",
   "execution_count": 7,
   "metadata": {},
   "outputs": [
    {
     "name": "stdout",
     "output_type": "stream",
     "text": [
      "\u001b[1;31mNull value in train data set\n",
      "\n",
      "\u001b[0m Qualification            0\n",
      "Experience               0\n",
      "Rating                3302\n",
      "Place                   25\n",
      "Profile                  0\n",
      "Miscellaneous_Info    2620\n",
      "Fees                     0\n",
      "dtype: int64 \n",
      "\n",
      "\n",
      "\u001b[1;31mNull value in test data set\n",
      "\u001b[0m Qualification            0\n",
      "Experience               0\n",
      "Rating                1090\n",
      "Place                    6\n",
      "Profile                  0\n",
      "Miscellaneous_Info     834\n",
      "dtype: int64\n"
     ]
    }
   ],
   "source": [
    "# checking null value in train and test data\n",
    "print('\\x1b[1;31m'+'Null value in train data set\\n\\n'+'\\x1b[0m',df_train.isnull().sum(),'\\n\\n')\n",
    "print('\\x1b[1;31m'+'Null value in test data set\\n'+'\\x1b[0m',df_test.isnull().sum())"
   ]
  },
  {
   "cell_type": "code",
   "execution_count": 8,
   "metadata": {},
   "outputs": [],
   "source": [
    "# splitting the Place into two diff columns\n",
    "\n",
    "df_train['City'] = df_train['Place'].str.split(',').str[1]\n",
    "df_train['Locality'] = df_train['Place'].str.split(',').str[0]\n",
    "\n",
    "\n",
    "df_test['City'] = df_test['Place'].str.split(',').str[1]\n",
    "df_test['Locality'] = df_test['Place'].str.split(',').str[0]\n",
    "\n",
    "# replacing null values in the new columns with 'others'\n",
    "df_train['City'].fillna(\"others\",inplace = True)\n",
    "df_train['Locality'].fillna(\"others\",inplace = True)\n",
    "\n",
    "df_test['City'].fillna(\"others\",inplace = True)\n",
    "df_test['Locality'].fillna(\"others\",inplace = True)\n",
    "\n",
    "# droping Place column\n",
    "df_train=df_train.drop(columns=['Place'])\n",
    "df_test=df_test.drop(columns=['Place'])"
   ]
  },
  {
   "cell_type": "code",
   "execution_count": 9,
   "metadata": {},
   "outputs": [],
   "source": [
    "# splitting qualification into diff columns\n",
    "df_train['Qualification_1'] = df_train['Qualification'].str.split(',').str[0]\n",
    "df_train['Qualification_2'] = df_train['Qualification'].str.split(',').str[1]\n",
    "df_train['Qualification_3'] = df_train['Qualification'].str.split(',').str[2]\n",
    "\n",
    "df_test['Qualification_1'] = df_test['Qualification'].str.split(',').str[0]\n",
    "df_test['Qualification_2'] = df_test['Qualification'].str.split(',').str[1]\n",
    "df_test['Qualification_3'] = df_test['Qualification'].str.split(',').str[2]\n",
    "\n",
    "# replcaing null values in the new coulumns\n",
    "\n",
    "df_train['Qualification_1'].fillna(\"others\",inplace = True)\n",
    "df_train['Qualification_2'].fillna(\"others\",inplace = True)\n",
    "df_train['Qualification_3'].fillna(\"others\",inplace = True)\n",
    "\n",
    "\n",
    "df_test['Qualification_1'].fillna(\"others\",inplace = True)\n",
    "df_test['Qualification_2'].fillna(\"others\",inplace = True)\n",
    "df_test['Qualification_3'].fillna(\"others\",inplace = True)\n",
    "\n",
    "# droping Qualification column\n",
    "\n",
    "df_train=df_train.drop(columns=['Qualification'])\n",
    "df_test=df_test.drop(columns=['Qualification'])"
   ]
  },
  {
   "cell_type": "code",
   "execution_count": 10,
   "metadata": {},
   "outputs": [],
   "source": [
    "# splitting Experience column into int value of experience\n",
    "df_train['exp_years']=df_train.Experience.str.split(' ').str[0].astype(int)\n",
    "df_test['exp_years']=df_test.Experience.str.split(' ').str[0].astype(int)\n",
    "\n",
    "# droping Experience column\n",
    "df_train=df_train.drop(columns=['Experience'])\n",
    "df_test=df_test.drop(columns=['Experience'])"
   ]
  },
  {
   "cell_type": "code",
   "execution_count": 11,
   "metadata": {},
   "outputs": [],
   "source": [
    "# filling null rating with 0%\n",
    "df_train['Rating'].fillna('0%',inplace = True)\n",
    "df_test['Rating'].fillna('0%',inplace = True)"
   ]
  },
  {
   "cell_type": "code",
   "execution_count": 12,
   "metadata": {},
   "outputs": [],
   "source": [
    "# taking int value of rating\n",
    "df_train['Rating'] = df_train['Rating'].str.slice(stop=-1).astype(int)\n",
    "df_test['Rating'] = df_test['Rating'].str.slice(stop=-1).astype(int)"
   ]
  },
  {
   "cell_type": "code",
   "execution_count": 13,
   "metadata": {},
   "outputs": [],
   "source": [
    "# feature engineering the Miscellaneous_Info column, we take the rating as Miscellaneous_rating and no. of feedback as Miscellaneous_feedback\n",
    "\n",
    "df_train['Miscellaneous_rating']=df_train.Miscellaneous_Info.str.split('%').str[0]\n",
    "df_train['Miscellaneous_rating_len']=df_train.Miscellaneous_rating.str.len()\n",
    "df_train.loc[df_train.Miscellaneous_rating_len >3,['Miscellaneous_rating']]=0\n",
    "df_train.Miscellaneous_rating.fillna(0,inplace=True)\n",
    "df_train.Miscellaneous_rating=df_train.Miscellaneous_rating.astype(int)\n",
    "\n",
    "df_train['Miscellaneous']=df_train.Miscellaneous_Info.str.split('% ').str[1]\n",
    "\n",
    "df_train['Miscellaneous_feedback']=df_train.Miscellaneous.str.split(' ').str[0]\n",
    "df_train['Miscellaneous_feedback_len']=df_train.Miscellaneous_feedback.str.len()\n",
    "df_train.loc[df_train.Miscellaneous_feedback_len >3,['Miscellaneous_feedback']]=0\n",
    "df_train.Miscellaneous_feedback.fillna(0,inplace=True)\n",
    "df_train.loc[df_train.Miscellaneous_feedback == ',',['Miscellaneous_feedback']]=0\n",
    "df_train.Miscellaneous_feedback=df_train.Miscellaneous_feedback.astype(int)\n",
    "\n",
    "\n",
    "\n",
    "df_test['Miscellaneous_rating']=df_test.Miscellaneous_Info.str.split('%').str[0]\n",
    "df_test['Miscellaneous_rating_len']=df_test.Miscellaneous_rating.str.len()\n",
    "df_test.loc[df_test.Miscellaneous_rating_len >3,['Miscellaneous_rating']]=0\n",
    "df_test.Miscellaneous_rating.fillna(0,inplace=True)\n",
    "df_test.Miscellaneous_rating=df_test.Miscellaneous_rating.astype(int)\n",
    "\n",
    "df_test['Miscellaneous']=df_test.Miscellaneous_Info.str.split('% ').str[1]\n",
    "\n",
    "df_test['Miscellaneous_feedback']=df_test.Miscellaneous.str.split(' ').str[0]\n",
    "df_test['Miscellaneous_feedback_len']=df_test.Miscellaneous_feedback.str.len()\n",
    "df_test.loc[df_test.Miscellaneous_feedback_len >3,['Miscellaneous_feedback']]=0\n",
    "df_test.Miscellaneous_feedback.fillna(0,inplace=True)\n",
    "df_test.loc[df_test.Miscellaneous_feedback == ',',['Miscellaneous_feedback']]=0\n",
    "df_test.Miscellaneous_feedback=df_test.Miscellaneous_feedback.astype(int)\n",
    "\n",
    "# droping Qualification column\n",
    "\n",
    "df_train=df_train.drop(columns=['Miscellaneous_Info'])\n",
    "df_test=df_test.drop(columns=['Miscellaneous_Info'])"
   ]
  },
  {
   "cell_type": "code",
   "execution_count": 14,
   "metadata": {},
   "outputs": [],
   "source": [
    "#if rating is greater then 0 and feedback's are 0 then Miscellaneous_feedback is 1\n",
    "df_train.loc[(df_train['Rating'] > 0) & (df_train.Miscellaneous_feedback == 0),['Miscellaneous_feedback']]=1\n",
    "df_test.loc[(df_test['Rating'] > 0) & (df_test.Miscellaneous_feedback == 0),['Miscellaneous_feedback']]=1\n"
   ]
  },
  {
   "cell_type": "code",
   "execution_count": 15,
   "metadata": {},
   "outputs": [],
   "source": [
    "df_train = df_train.drop(df_train[['Miscellaneous_rating','Miscellaneous','Rating','Miscellaneous_rating_len','Miscellaneous_feedback_len']], axis=1)\n",
    "df_test = df_test.drop(df_test[['Miscellaneous_rating','Miscellaneous','Rating','Miscellaneous_rating_len','Miscellaneous_feedback_len']], axis=1)"
   ]
  },
  {
   "cell_type": "code",
   "execution_count": 16,
   "metadata": {},
   "outputs": [
    {
     "data": {
      "text/html": [
       "<div>\n",
       "<style scoped>\n",
       "    .dataframe tbody tr th:only-of-type {\n",
       "        vertical-align: middle;\n",
       "    }\n",
       "\n",
       "    .dataframe tbody tr th {\n",
       "        vertical-align: top;\n",
       "    }\n",
       "\n",
       "    .dataframe thead th {\n",
       "        text-align: right;\n",
       "    }\n",
       "</style>\n",
       "<table border=\"1\" class=\"dataframe\">\n",
       "  <thead>\n",
       "    <tr style=\"text-align: right;\">\n",
       "      <th></th>\n",
       "      <th>Fees</th>\n",
       "      <th>exp_years</th>\n",
       "      <th>Miscellaneous_feedback</th>\n",
       "    </tr>\n",
       "  </thead>\n",
       "  <tbody>\n",
       "    <tr>\n",
       "      <td>count</td>\n",
       "      <td>5961.000000</td>\n",
       "      <td>5961.000000</td>\n",
       "      <td>5961.00000</td>\n",
       "    </tr>\n",
       "    <tr>\n",
       "      <td>mean</td>\n",
       "      <td>307.944640</td>\n",
       "      <td>17.303976</td>\n",
       "      <td>9.87284</td>\n",
       "    </tr>\n",
       "    <tr>\n",
       "      <td>std</td>\n",
       "      <td>190.920373</td>\n",
       "      <td>11.142798</td>\n",
       "      <td>39.31286</td>\n",
       "    </tr>\n",
       "    <tr>\n",
       "      <td>min</td>\n",
       "      <td>5.000000</td>\n",
       "      <td>0.000000</td>\n",
       "      <td>0.00000</td>\n",
       "    </tr>\n",
       "    <tr>\n",
       "      <td>25%</td>\n",
       "      <td>150.000000</td>\n",
       "      <td>9.000000</td>\n",
       "      <td>0.00000</td>\n",
       "    </tr>\n",
       "    <tr>\n",
       "      <td>50%</td>\n",
       "      <td>300.000000</td>\n",
       "      <td>14.000000</td>\n",
       "      <td>0.00000</td>\n",
       "    </tr>\n",
       "    <tr>\n",
       "      <td>75%</td>\n",
       "      <td>500.000000</td>\n",
       "      <td>23.000000</td>\n",
       "      <td>1.00000</td>\n",
       "    </tr>\n",
       "    <tr>\n",
       "      <td>max</td>\n",
       "      <td>950.000000</td>\n",
       "      <td>66.000000</td>\n",
       "      <td>854.00000</td>\n",
       "    </tr>\n",
       "  </tbody>\n",
       "</table>\n",
       "</div>"
      ],
      "text/plain": [
       "              Fees    exp_years  Miscellaneous_feedback\n",
       "count  5961.000000  5961.000000              5961.00000\n",
       "mean    307.944640    17.303976                 9.87284\n",
       "std     190.920373    11.142798                39.31286\n",
       "min       5.000000     0.000000                 0.00000\n",
       "25%     150.000000     9.000000                 0.00000\n",
       "50%     300.000000    14.000000                 0.00000\n",
       "75%     500.000000    23.000000                 1.00000\n",
       "max     950.000000    66.000000               854.00000"
      ]
     },
     "execution_count": 16,
     "metadata": {},
     "output_type": "execute_result"
    }
   ],
   "source": [
    "df_train.describe()"
   ]
  },
  {
   "cell_type": "code",
   "execution_count": 17,
   "metadata": {},
   "outputs": [
    {
     "data": {
      "text/plain": [
       "<matplotlib.axes._subplots.AxesSubplot at 0x24ce7940d88>"
      ]
     },
     "execution_count": 17,
     "metadata": {},
     "output_type": "execute_result"
    },
    {
     "data": {
      "image/png": "[encoded data removed]",
      "text/plain": [
       "<Figure size 432x288 with 2 Axes>"
      ]
     },
     "metadata": {
      "needs_background": "light"
     },
     "output_type": "display_data"
    }
   ],
   "source": [
    "# heat map of corelation\n",
    "sns.heatmap(df_train.corr())"
   ]
  },
  {
   "cell_type": "code",
   "execution_count": 18,
   "metadata": {},
   "outputs": [
    {
     "data": {
      "image/png": "[encoded data removed]",
      "text/plain": [
       "<Figure size 864x648 with 4 Axes>"
      ]
     },
     "metadata": {
      "needs_background": "light"
     },
     "output_type": "display_data"
    }
   ],
   "source": [
    "#histogram to check the data despersion\n",
    "\n",
    "df_train.hist(figsize=(12,9))\n",
    "plt.show()"
   ]
  },
  {
   "cell_type": "code",
   "execution_count": 19,
   "metadata": {},
   "outputs": [
    {
     "data": {
      "text/plain": [
       "Fees                         AxesSubplot(0.125,0.772143;0.227941x0.107857)\n",
       "exp_years                 AxesSubplot(0.398529,0.772143;0.227941x0.107857)\n",
       "Miscellaneous_feedback    AxesSubplot(0.672059,0.772143;0.227941x0.107857)\n",
       "dtype: object"
      ]
     },
     "execution_count": 19,
     "metadata": {},
     "output_type": "execute_result"
    },
    {
     "data": {
      "image/png": "[encoded data removed]",
      "text/plain": [
       "<Figure size 1080x1440 with 18 Axes>"
      ]
     },
     "metadata": {
      "needs_background": "light"
     },
     "output_type": "display_data"
    }
   ],
   "source": [
    "# Creating boxplot of continous variables to visualize the minimum, maximum, avareg value for each colums along with outlires\n",
    "df_train.plot(kind='box',subplots=True,layout=(6,3),figsize=(15,20))"
   ]
  },
  {
   "cell_type": "code",
   "execution_count": 20,
   "metadata": {},
   "outputs": [
    {
     "data": {
      "text/plain": [
       "<seaborn.axisgrid.PairGrid at 0x24ce76d78c8>"
      ]
     },
     "execution_count": 20,
     "metadata": {},
     "output_type": "execute_result"
    },
    {
     "data": {
      "image/png": "[encoded data removed]",
      "text/plain": [
       "<Figure size 540x540 with 12 Axes>"
      ]
     },
     "metadata": {
      "needs_background": "light"
     },
     "output_type": "display_data"
    }
   ],
   "source": [
    "#check the price and travel hour pair plot\n",
    "sns.pairplot(data=df_train,kind='reg')"
   ]
  },
  {
   "cell_type": "markdown",
   "metadata": {},
   "source": [
    "###### Manipulating data before bulding the model"
   ]
  },
  {
   "cell_type": "code",
   "execution_count": 21,
   "metadata": {},
   "outputs": [
    {
     "name": "stdout",
     "output_type": "stream",
     "text": [
      "(5961, 9)\n",
      "(5941, 9)\n"
     ]
    }
   ],
   "source": [
    "#removing outlires \n",
    "count_train=df_train[['Fees']]\n",
    "z=abs(zscore(count_train))\n",
    "print(df_train.shape)\n",
    "df_train=df_train.loc[(z<3).all(axis=1)]\n",
    "print(df_train.shape)"
   ]
  },
  {
   "cell_type": "code",
   "execution_count": 22,
   "metadata": {},
   "outputs": [
    {
     "data": {
      "text/html": [
       "<div>\n",
       "<style scoped>\n",
       "    .dataframe tbody tr th:only-of-type {\n",
       "        vertical-align: middle;\n",
       "    }\n",
       "\n",
       "    .dataframe tbody tr th {\n",
       "        vertical-align: top;\n",
       "    }\n",
       "\n",
       "    .dataframe thead th {\n",
       "        text-align: right;\n",
       "    }\n",
       "</style>\n",
       "<table border=\"1\" class=\"dataframe\">\n",
       "  <thead>\n",
       "    <tr style=\"text-align: right;\">\n",
       "      <th></th>\n",
       "      <th>Profile</th>\n",
       "      <th>Fees</th>\n",
       "      <th>City</th>\n",
       "      <th>Locality</th>\n",
       "      <th>Qualification_1</th>\n",
       "      <th>Qualification_2</th>\n",
       "      <th>Qualification_3</th>\n",
       "      <th>exp_years</th>\n",
       "      <th>Miscellaneous_feedback</th>\n",
       "    </tr>\n",
       "  </thead>\n",
       "  <tbody>\n",
       "    <tr>\n",
       "      <td>0</td>\n",
       "      <td>5</td>\n",
       "      <td>100</td>\n",
       "      <td>4</td>\n",
       "      <td>296</td>\n",
       "      <td>8</td>\n",
       "      <td>252</td>\n",
       "      <td>406</td>\n",
       "      <td>24</td>\n",
       "      <td>16</td>\n",
       "    </tr>\n",
       "    <tr>\n",
       "      <td>1</td>\n",
       "      <td>0</td>\n",
       "      <td>350</td>\n",
       "      <td>0</td>\n",
       "      <td>855</td>\n",
       "      <td>5</td>\n",
       "      <td>241</td>\n",
       "      <td>406</td>\n",
       "      <td>12</td>\n",
       "      <td>76</td>\n",
       "    </tr>\n",
       "    <tr>\n",
       "      <td>2</td>\n",
       "      <td>3</td>\n",
       "      <td>300</td>\n",
       "      <td>0</td>\n",
       "      <td>452</td>\n",
       "      <td>78</td>\n",
       "      <td>334</td>\n",
       "      <td>406</td>\n",
       "      <td>9</td>\n",
       "      <td>0</td>\n",
       "    </tr>\n",
       "  </tbody>\n",
       "</table>\n",
       "</div>"
      ],
      "text/plain": [
       "   Profile  Fees  City  Locality  Qualification_1  Qualification_2  \\\n",
       "0        5   100     4       296                8              252   \n",
       "1        0   350     0       855                5              241   \n",
       "2        3   300     0       452               78              334   \n",
       "\n",
       "   Qualification_3  exp_years  Miscellaneous_feedback  \n",
       "0              406         24                      16  \n",
       "1              406         12                      76  \n",
       "2              406          9                       0  "
      ]
     },
     "execution_count": 22,
     "metadata": {},
     "output_type": "execute_result"
    }
   ],
   "source": [
    "#masking of object column\n",
    "categorial_mask1=df_train.dtypes==object\n",
    "categorial_mask2=df_test.dtypes==object\n",
    "\n",
    "#categorical columns\n",
    "categorical_cols1=df_train.columns[categorial_mask1].tolist()\n",
    "categorical_cols2=df_test.columns[categorial_mask2].tolist()\n",
    "\n",
    "le=LabelEncoder()\n",
    "\n",
    "df_train[categorical_cols1]=df_train[categorical_cols1].apply(lambda col:le.fit_transform(col))\n",
    "df_test[categorical_cols2]=df_test[categorical_cols2].apply(lambda col:le.fit_transform(col))\n",
    "\n",
    "df_train.head(3)"
   ]
  },
  {
   "cell_type": "code",
   "execution_count": 23,
   "metadata": {},
   "outputs": [
    {
     "data": {
      "text/html": [
       "<div>\n",
       "<style scoped>\n",
       "    .dataframe tbody tr th:only-of-type {\n",
       "        vertical-align: middle;\n",
       "    }\n",
       "\n",
       "    .dataframe tbody tr th {\n",
       "        vertical-align: top;\n",
       "    }\n",
       "\n",
       "    .dataframe thead th {\n",
       "        text-align: right;\n",
       "    }\n",
       "</style>\n",
       "<table border=\"1\" class=\"dataframe\">\n",
       "  <thead>\n",
       "    <tr style=\"text-align: right;\">\n",
       "      <th></th>\n",
       "      <th>Profile</th>\n",
       "      <th>City</th>\n",
       "      <th>Locality</th>\n",
       "      <th>Qualification_1</th>\n",
       "      <th>Qualification_2</th>\n",
       "      <th>Qualification_3</th>\n",
       "      <th>exp_years</th>\n",
       "      <th>Miscellaneous_feedback</th>\n",
       "    </tr>\n",
       "  </thead>\n",
       "  <tbody>\n",
       "    <tr>\n",
       "      <td>0</td>\n",
       "      <td>4</td>\n",
       "      <td>6</td>\n",
       "      <td>142</td>\n",
       "      <td>48</td>\n",
       "      <td>243</td>\n",
       "      <td>195</td>\n",
       "      <td>35</td>\n",
       "      <td>0</td>\n",
       "    </tr>\n",
       "    <tr>\n",
       "      <td>1</td>\n",
       "      <td>3</td>\n",
       "      <td>5</td>\n",
       "      <td>577</td>\n",
       "      <td>48</td>\n",
       "      <td>79</td>\n",
       "      <td>195</td>\n",
       "      <td>31</td>\n",
       "      <td>0</td>\n",
       "    </tr>\n",
       "    <tr>\n",
       "      <td>2</td>\n",
       "      <td>2</td>\n",
       "      <td>1</td>\n",
       "      <td>212</td>\n",
       "      <td>48</td>\n",
       "      <td>28</td>\n",
       "      <td>195</td>\n",
       "      <td>40</td>\n",
       "      <td>4</td>\n",
       "    </tr>\n",
       "  </tbody>\n",
       "</table>\n",
       "</div>"
      ],
      "text/plain": [
       "   Profile  City  Locality  Qualification_1  Qualification_2  Qualification_3  \\\n",
       "0        4     6       142               48              243              195   \n",
       "1        3     5       577               48               79              195   \n",
       "2        2     1       212               48               28              195   \n",
       "\n",
       "   exp_years  Miscellaneous_feedback  \n",
       "0         35                       0  \n",
       "1         31                       0  \n",
       "2         40                       4  "
      ]
     },
     "execution_count": 23,
     "metadata": {},
     "output_type": "execute_result"
    }
   ],
   "source": [
    "df_test.head(3)"
   ]
  },
  {
   "cell_type": "code",
   "execution_count": 24,
   "metadata": {},
   "outputs": [
    {
     "name": "stdout",
     "output_type": "stream",
     "text": [
      "x dataset\n",
      "    Profile  City  Locality  Qualification_1  Qualification_2  Qualification_3  \\\n",
      "0        5     4       296                8              252              406   \n",
      "1        0     0       855                5              241              406   \n",
      "2        3     0       452               78              334              406   \n",
      "3        0     0        68               12                7              406   \n",
      "4        0     1       335                5              426              406   \n",
      "\n",
      "   exp_years  Miscellaneous_feedback  \n",
      "0         24                      16  \n",
      "1         12                      76  \n",
      "2          9                       0  \n",
      "3         12                       0  \n",
      "4         20                       4   \n",
      "\n",
      "y datase\n",
      " 4963    100\n",
      "3609    700\n",
      "589     400\n",
      "Name: Fees, dtype: int64\n",
      "(5941, 8)\n",
      "(5941,)\n"
     ]
    }
   ],
   "source": [
    "# dividing dataset into input values 'x' and output value 'y'\n",
    "x = df_train.drop(columns=['Fees'])\n",
    "print('x dataset\\n',x.head(),'\\n')\n",
    "y=df_train['Fees']\n",
    "print('y datase\\n',y.sample(3))\n",
    "print(x.shape)\n",
    "print(y.shape)"
   ]
  },
  {
   "cell_type": "code",
   "execution_count": 25,
   "metadata": {},
   "outputs": [],
   "source": [
    "# standardizes the data in x using standerd scaler technique\n",
    "scale=StandardScaler()\n",
    "x=scale.fit_transform(x)"
   ]
  },
  {
   "cell_type": "markdown",
   "metadata": {},
   "source": [
    "###### Bulding and comparing multipe regression model, to find out the best model"
   ]
  },
  {
   "cell_type": "code",
   "execution_count": 26,
   "metadata": {},
   "outputs": [],
   "source": [
    "#creating models array with all the model\n",
    "Models=[('Ridge',Ridge()),('GradientBoostingRegressor',GradientBoostingRegressor(random_state=5)),('ElasticNet',ElasticNet()),\n",
    "        ('Lasso',Lasso(random_state=29)),('SGDRegressor',SGDRegressor()),('DecisionTreeRegressor',DecisionTreeRegressor(random_state=5)),\n",
    "        ('KNeighborsRegressor',KNeighborsRegressor()),('RandomForestRegressor',RandomForestRegressor(random_state=5)),\n",
    "        ('LinearRegression',LinearRegression()),('SVR',SVR())]"
   ]
  },
  {
   "cell_type": "code",
   "execution_count": 27,
   "metadata": {},
   "outputs": [],
   "source": [
    "# loop to find out the maximum r2score for all the model in models array, along a range of random state\n",
    "Model_array=[]\n",
    "Random_state=[]\n",
    "Max_r2score_array=[]\n",
    "for name,model in Models:\n",
    "    max_r2score=0    \n",
    "    for random_state in range(10,99):\n",
    "        train_x,test_x,train_y,test_y=train_test_split(x,y,test_size=.2,random_state=random_state,shuffle=True)\n",
    "        model.fit(train_x,train_y)\n",
    "        pred=model.predict(test_x)\n",
    "        \n",
    "        r2score=r2_score(test_y,pred)\n",
    "        \n",
    "        if r2score>max_r2score:\n",
    "            max_r2score=r2score\n",
    "            best_random_state=random_state\n",
    "    \n",
    "    Model_array.append(name)\n",
    "    Random_state.append(best_random_state)\n",
    "    Max_r2score_array.append(max_r2score)"
   ]
  },
  {
   "cell_type": "code",
   "execution_count": 28,
   "metadata": {},
   "outputs": [
    {
     "data": {
      "text/html": [
       "<div>\n",
       "<style scoped>\n",
       "    .dataframe tbody tr th:only-of-type {\n",
       "        vertical-align: middle;\n",
       "    }\n",
       "\n",
       "    .dataframe tbody tr th {\n",
       "        vertical-align: top;\n",
       "    }\n",
       "\n",
       "    .dataframe thead th {\n",
       "        text-align: right;\n",
       "    }\n",
       "</style>\n",
       "<table border=\"1\" class=\"dataframe\">\n",
       "  <thead>\n",
       "    <tr style=\"text-align: right;\">\n",
       "      <th></th>\n",
       "      <th>Model</th>\n",
       "      <th>R2 score</th>\n",
       "      <th>Random state</th>\n",
       "    </tr>\n",
       "  </thead>\n",
       "  <tbody>\n",
       "    <tr>\n",
       "      <td>1</td>\n",
       "      <td>GradientBoostingRegressor</td>\n",
       "      <td>0.253776</td>\n",
       "      <td>41</td>\n",
       "    </tr>\n",
       "    <tr>\n",
       "      <td>7</td>\n",
       "      <td>RandomForestRegressor</td>\n",
       "      <td>0.177188</td>\n",
       "      <td>41</td>\n",
       "    </tr>\n",
       "    <tr>\n",
       "      <td>4</td>\n",
       "      <td>SGDRegressor</td>\n",
       "      <td>0.118692</td>\n",
       "      <td>84</td>\n",
       "    </tr>\n",
       "    <tr>\n",
       "      <td>8</td>\n",
       "      <td>LinearRegression</td>\n",
       "      <td>0.116500</td>\n",
       "      <td>84</td>\n",
       "    </tr>\n",
       "    <tr>\n",
       "      <td>0</td>\n",
       "      <td>Ridge</td>\n",
       "      <td>0.116494</td>\n",
       "      <td>84</td>\n",
       "    </tr>\n",
       "    <tr>\n",
       "      <td>3</td>\n",
       "      <td>Lasso</td>\n",
       "      <td>0.114216</td>\n",
       "      <td>84</td>\n",
       "    </tr>\n",
       "    <tr>\n",
       "      <td>2</td>\n",
       "      <td>ElasticNet</td>\n",
       "      <td>0.100405</td>\n",
       "      <td>84</td>\n",
       "    </tr>\n",
       "    <tr>\n",
       "      <td>9</td>\n",
       "      <td>SVR</td>\n",
       "      <td>0.093050</td>\n",
       "      <td>11</td>\n",
       "    </tr>\n",
       "    <tr>\n",
       "      <td>6</td>\n",
       "      <td>KNeighborsRegressor</td>\n",
       "      <td>0.092369</td>\n",
       "      <td>38</td>\n",
       "    </tr>\n",
       "    <tr>\n",
       "      <td>5</td>\n",
       "      <td>DecisionTreeRegressor</td>\n",
       "      <td>0.000000</td>\n",
       "      <td>84</td>\n",
       "    </tr>\n",
       "  </tbody>\n",
       "</table>\n",
       "</div>"
      ],
      "text/plain": [
       "                       Model  R2 score  Random state\n",
       "1  GradientBoostingRegressor  0.253776            41\n",
       "7      RandomForestRegressor  0.177188            41\n",
       "4               SGDRegressor  0.118692            84\n",
       "8           LinearRegression  0.116500            84\n",
       "0                      Ridge  0.116494            84\n",
       "3                      Lasso  0.114216            84\n",
       "2                 ElasticNet  0.100405            84\n",
       "9                        SVR  0.093050            11\n",
       "6        KNeighborsRegressor  0.092369            38\n",
       "5      DecisionTreeRegressor  0.000000            84"
      ]
     },
     "execution_count": 28,
     "metadata": {},
     "output_type": "execute_result"
    }
   ],
   "source": [
    "# comparing the performances of all the model on R2 score basis\n",
    "model_accuracy_performance = pd.DataFrame({'Model': Model_array,'R2 score': Max_r2score_array,'Random state': Random_state})\n",
    "model_accuracy_performance.sort_values(by='R2 score', ascending=False)"
   ]
  },
  {
   "cell_type": "markdown",
   "metadata": {},
   "source": [
    "###### Conclusion\n",
    "On basis of r2 score GradientBoostingRegressor model is performing the best with maximum r2 score"
   ]
  },
  {
   "cell_type": "code",
   "execution_count": 29,
   "metadata": {},
   "outputs": [],
   "source": [
    "# loop to find out the cross_val_score for r2 of all the model in models array\n",
    "Cross_val_score_array=[]\n",
    "Standard_Deviation=[]\n",
    "for name, model in Models:\n",
    "    kf=KFold(n_splits=10,random_state=5)\n",
    "    cscore=cross_val_score(model,x,y,cv=kf,scoring='r2')\n",
    "    \n",
    "    Cross_val_score_array.append(cscore.mean())\n",
    "    Standard_Deviation.append(cscore.std())"
   ]
  },
  {
   "cell_type": "code",
   "execution_count": 30,
   "metadata": {},
   "outputs": [
    {
     "data": {
      "text/html": [
       "<div>\n",
       "<style scoped>\n",
       "    .dataframe tbody tr th:only-of-type {\n",
       "        vertical-align: middle;\n",
       "    }\n",
       "\n",
       "    .dataframe tbody tr th {\n",
       "        vertical-align: top;\n",
       "    }\n",
       "\n",
       "    .dataframe thead th {\n",
       "        text-align: right;\n",
       "    }\n",
       "</style>\n",
       "<table border=\"1\" class=\"dataframe\">\n",
       "  <thead>\n",
       "    <tr style=\"text-align: right;\">\n",
       "      <th></th>\n",
       "      <th>Model</th>\n",
       "      <th>Cross val Acuracy</th>\n",
       "      <th>Standard Deviation</th>\n",
       "    </tr>\n",
       "  </thead>\n",
       "  <tbody>\n",
       "    <tr>\n",
       "      <td>1</td>\n",
       "      <td>GradientBoostingRegressor</td>\n",
       "      <td>0.213224</td>\n",
       "      <td>0.029655</td>\n",
       "    </tr>\n",
       "    <tr>\n",
       "      <td>7</td>\n",
       "      <td>RandomForestRegressor</td>\n",
       "      <td>0.114806</td>\n",
       "      <td>0.039870</td>\n",
       "    </tr>\n",
       "    <tr>\n",
       "      <td>0</td>\n",
       "      <td>Ridge</td>\n",
       "      <td>0.082958</td>\n",
       "      <td>0.012740</td>\n",
       "    </tr>\n",
       "    <tr>\n",
       "      <td>8</td>\n",
       "      <td>LinearRegression</td>\n",
       "      <td>0.082957</td>\n",
       "      <td>0.012742</td>\n",
       "    </tr>\n",
       "    <tr>\n",
       "      <td>3</td>\n",
       "      <td>Lasso</td>\n",
       "      <td>0.082791</td>\n",
       "      <td>0.011939</td>\n",
       "    </tr>\n",
       "    <tr>\n",
       "      <td>4</td>\n",
       "      <td>SGDRegressor</td>\n",
       "      <td>0.082430</td>\n",
       "      <td>0.012913</td>\n",
       "    </tr>\n",
       "    <tr>\n",
       "      <td>2</td>\n",
       "      <td>ElasticNet</td>\n",
       "      <td>0.077372</td>\n",
       "      <td>0.008593</td>\n",
       "    </tr>\n",
       "    <tr>\n",
       "      <td>9</td>\n",
       "      <td>SVR</td>\n",
       "      <td>0.061616</td>\n",
       "      <td>0.019634</td>\n",
       "    </tr>\n",
       "    <tr>\n",
       "      <td>6</td>\n",
       "      <td>KNeighborsRegressor</td>\n",
       "      <td>0.024445</td>\n",
       "      <td>0.042903</td>\n",
       "    </tr>\n",
       "    <tr>\n",
       "      <td>5</td>\n",
       "      <td>DecisionTreeRegressor</td>\n",
       "      <td>-0.541528</td>\n",
       "      <td>0.100946</td>\n",
       "    </tr>\n",
       "  </tbody>\n",
       "</table>\n",
       "</div>"
      ],
      "text/plain": [
       "                       Model  Cross val Acuracy  Standard Deviation\n",
       "1  GradientBoostingRegressor           0.213224            0.029655\n",
       "7      RandomForestRegressor           0.114806            0.039870\n",
       "0                      Ridge           0.082958            0.012740\n",
       "8           LinearRegression           0.082957            0.012742\n",
       "3                      Lasso           0.082791            0.011939\n",
       "4               SGDRegressor           0.082430            0.012913\n",
       "2                 ElasticNet           0.077372            0.008593\n",
       "9                        SVR           0.061616            0.019634\n",
       "6        KNeighborsRegressor           0.024445            0.042903\n",
       "5      DecisionTreeRegressor          -0.541528            0.100946"
      ]
     },
     "execution_count": 30,
     "metadata": {},
     "output_type": "execute_result"
    }
   ],
   "source": [
    "# comparing the performances of all the model on crossval basis\n",
    "model_cross_val_performance = pd.DataFrame({'Model': Model_array,'Cross val Acuracy': Cross_val_score_array,\n",
    "                                            'Standard Deviation': Standard_Deviation})\n",
    "model_cross_val_performance.sort_values(by='Cross val Acuracy', ascending=False)"
   ]
  },
  {
   "cell_type": "markdown",
   "metadata": {},
   "source": [
    "###### Conclusion\n",
    "On basis of Cross val Acuracy GradientBoostingRegressor model is performing best with maximum cross val score"
   ]
  },
  {
   "cell_type": "markdown",
   "metadata": {},
   "source": [
    "###### On basis of our compression of r2 , and Cross val score i choose GradientBoostingRegressor model since it performing best on given data"
   ]
  },
  {
   "cell_type": "code",
   "execution_count": 31,
   "metadata": {},
   "outputs": [],
   "source": [
    "#using grid search to improve result for GradientBoostingRegressor model\n",
    "kfoldr =KFold(n_splits=10,random_state=69)\n",
    "param_grid={'max_depth':[3,4,5],'max_features':['auto','sqrt'],'min_samples_split':[2,3,4],'n_estimators':[200,300,400],\n",
    "            'min_samples_leaf':[1,2,3]}\n",
    "mod=GradientBoostingRegressor()\n",
    "grid=GridSearchCV(estimator=mod,param_grid=param_grid,scoring='r2',cv=kfoldr,n_jobs=3)\n",
    "grid_result=grid.fit(x,y)"
   ]
  },
  {
   "cell_type": "code",
   "execution_count": 32,
   "metadata": {},
   "outputs": [
    {
     "data": {
      "text/plain": [
       "0.23501012899721693"
      ]
     },
     "execution_count": 32,
     "metadata": {},
     "output_type": "execute_result"
    }
   ],
   "source": [
    "grid_result.best_score_"
   ]
  },
  {
   "cell_type": "code",
   "execution_count": 33,
   "metadata": {},
   "outputs": [
    {
     "data": {
      "text/plain": [
       "{'max_depth': 3,\n",
       " 'max_features': 'auto',\n",
       " 'min_samples_leaf': 2,\n",
       " 'min_samples_split': 2,\n",
       " 'n_estimators': 400}"
      ]
     },
     "execution_count": 33,
     "metadata": {},
     "output_type": "execute_result"
    }
   ],
   "source": [
    "grid_result.best_params_"
   ]
  },
  {
   "cell_type": "code",
   "execution_count": 34,
   "metadata": {},
   "outputs": [
    {
     "data": {
      "text/plain": [
       "GradientBoostingRegressor(alpha=0.9, criterion='friedman_mse', init=None,\n",
       "                          learning_rate=0.1, loss='ls', max_depth=3,\n",
       "                          max_features='auto', max_leaf_nodes=None,\n",
       "                          min_impurity_decrease=0.0, min_impurity_split=None,\n",
       "                          min_samples_leaf=2, min_samples_split=2,\n",
       "                          min_weight_fraction_leaf=0.0, n_estimators=400,\n",
       "                          n_iter_no_change=None, presort='auto',\n",
       "                          random_state=None, subsample=1.0, tol=0.0001,\n",
       "                          validation_fraction=0.1, verbose=0, warm_start=False)"
      ]
     },
     "execution_count": 34,
     "metadata": {},
     "output_type": "execute_result"
    }
   ],
   "source": [
    "grid_result.best_estimator_"
   ]
  },
  {
   "cell_type": "markdown",
   "metadata": {},
   "source": [
    "### Using test data and predecting price for test data..."
   ]
  },
  {
   "cell_type": "code",
   "execution_count": 35,
   "metadata": {},
   "outputs": [],
   "source": [
    "X_train = df_train.drop(labels='Fees', axis=1)\n",
    "y_train = df_train['Fees'].values\n",
    "\n",
    "X_test = df_test"
   ]
  },
  {
   "cell_type": "code",
   "execution_count": 36,
   "metadata": {},
   "outputs": [],
   "source": [
    "# standardizes the data in x using standerd scaler technique\n",
    "X_train=scale.fit_transform(X_train)\n",
    "X_test=scale.fit_transform(X_test)"
   ]
  },
  {
   "cell_type": "code",
   "execution_count": 37,
   "metadata": {},
   "outputs": [
    {
     "data": {
      "text/plain": [
       "((5941, 8), (5941,), (1987, 8))"
      ]
     },
     "execution_count": 37,
     "metadata": {},
     "output_type": "execute_result"
    }
   ],
   "source": [
    "#checking shape of train and test data\n",
    "X_train.shape,y_train.shape,X_test.shape"
   ]
  },
  {
   "cell_type": "code",
   "execution_count": 38,
   "metadata": {},
   "outputs": [],
   "source": [
    "# using best performing model for predecting the price\n",
    "gbr = GradientBoostingRegressor(alpha=0.9, criterion='friedman_mse', init=None,\n",
    "                          learning_rate=0.1, loss='ls', max_depth=3,\n",
    "                          max_features='auto', max_leaf_nodes=None,\n",
    "                          min_impurity_decrease=0.0, min_impurity_split=None,\n",
    "                          min_samples_leaf=2, min_samples_split=2,\n",
    "                          min_weight_fraction_leaf=0.0, n_estimators=400,\n",
    "                          n_iter_no_change=None, presort='auto',\n",
    "                          random_state=None, subsample=1.0, tol=0.0001,\n",
    "                          validation_fraction=0.1, verbose=0, warm_start=False)\n",
    "\n",
    "gbr.fit(X_train,y_train)\n",
    "\n",
    "Y_pred = gbr.predict(X_test)\n"
   ]
  },
  {
   "cell_type": "code",
   "execution_count": 39,
   "metadata": {},
   "outputs": [],
   "source": [
    "# saving the predection to a csv file.\n",
    "prediction = pd.DataFrame(Y_pred, columns=['Y_pred']).to_csv('Project 18 Predict A Doctor Consultation Fee.csv')"
   ]
  },
  {
   "cell_type": "code",
   "execution_count": 40,
   "metadata": {},
   "outputs": [
    {
     "data": {
      "text/plain": [
       "['gbr_Project 18 Predict A Doctor Consultation Fee.pkl']"
      ]
     },
     "execution_count": 40,
     "metadata": {},
     "output_type": "execute_result"
    }
   ],
   "source": [
    "# saving the model using pickle.\n",
    "joblib.dump(gbr,'gbr_Project 18 Predict A Doctor Consultation Fee.pkl')"
   ]
  },
  {
   "cell_type": "code",
   "execution_count": null,
   "metadata": {},
   "outputs": [],
   "source": []
  }
 ],
 "metadata": {
  "kernelspec": {
   "display_name": "Python 3",
   "language": "python",
   "name": "python3"
  },
  "language_info": {
   "codemirror_mode": {
    "name": "ipython",
    "version": 3
   },
   "file_extension": ".py",
   "mimetype": "text/x-python",
   "name": "python",
   "nbconvert_exporter": "python",
   "pygments_lexer": "ipython3",
   "version": "3.7.4"
  }
 },
 "nbformat": 4,
 "nbformat_minor": 2
}
